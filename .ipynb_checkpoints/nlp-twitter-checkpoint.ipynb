{
 "cells": [
  {
   "cell_type": "code",
   "execution_count": 60,
   "metadata": {},
   "outputs": [],
   "source": [
    "import pandas as pd \n",
    "import numpy as np\n",
    "import os \n",
    "import nltk\n",
    "from nltk.corpus import stopwords\n",
    "import re \n",
    "from nltk.stem import WordNetLemmatizer"
   ]
  },
  {
   "cell_type": "code",
   "execution_count": 61,
   "metadata": {},
   "outputs": [],
   "source": [
    "# Data preprocessing and cleaning "
   ]
  },
  {
   "cell_type": "code",
   "execution_count": 62,
   "metadata": {},
   "outputs": [
    {
     "name": "stdout",
     "output_type": "stream",
     "text": [
      "[nltk_data] Downloading package stopwords to\n",
      "[nltk_data]     /home/ec2-user/nltk_data...\n",
      "[nltk_data]   Package stopwords is already up-to-date!\n",
      "[nltk_data] Downloading package wordnet to /home/ec2-user/nltk_data...\n",
      "[nltk_data]   Package wordnet is already up-to-date!\n"
     ]
    },
    {
     "data": {
      "text/plain": [
       "True"
      ]
     },
     "execution_count": 62,
     "metadata": {},
     "output_type": "execute_result"
    }
   ],
   "source": [
    "df = pd.read_csv(\"data/data.csv\")\n",
    "nltk.download('stopwords')\n",
    "nltk.download('wordnet')"
   ]
  },
  {
   "cell_type": "code",
   "execution_count": 68,
   "metadata": {},
   "outputs": [],
   "source": [
    "# used method but combined in the method cleanTweet.\n",
    "import string\n",
    "def removeNonAlphaNum(senten):\n",
    "    printable = set(string.printable)\n",
    "    return ''.join(ch if ch.isalnum() and ch in printable else ' ' for ch in senten )\n",
    "# def removeURLs(string):\n",
    "#     return re.sub(r'^https?:\\/\\/.*[\\r\\n]*', '', string, flags=re.MULTILINE).strip()\n",
    "# def removeMentions(string):\n",
    "#     return re.sub(r'^@\\w+','',string).strip()\n",
    "# def removeStopWords(sentence):\n",
    "#     nltk.download('stopwords')\n",
    "#     return ' '.join([word for word in sentence.split() if word not in stopwords.words(\"english\")])\n",
    "# def stemWords(sentence):\n",
    "#     nltk.download('wordnet')\n",
    "#     wnl =WordNetLemmatizer()\n",
    "#     return ' '.join([wnl.lemmatize(word,'v') for word in sentence.split()])"
   ]
  },
  {
   "cell_type": "code",
   "execution_count": 83,
   "metadata": {},
   "outputs": [],
   "source": [
    "def cleanTweet(tweet):\n",
    "    #convert the tweet to lowercase\n",
    "    words = tweet.lower().split()\n",
    "    \n",
    "    # remove URLs and mentions from tweets \n",
    "    words = [re.sub(r'https?:\\/\\/.*[\\r\\n]*|^@\\w+', '', w, flags=re.MULTILINE).strip() for w in words]\n",
    "    \n",
    "    # remove non alphanum charachters and stop words and lemmatizing the words.\n",
    "    wnl =WordNetLemmatizer()\n",
    "    words = removeNonAlphaNum(' '.join(words)).split()\n",
    "    words = [wnl.lemmatize(w,'v') for w in words if w not in stopwords.words(\"english\")]\n",
    "    words = list(filter(None,words))\n",
    "    return list(filter(lambda x:len(x)>1,words))"
   ]
  },
  {
   "cell_type": "code",
   "execution_count": 91,
   "metadata": {},
   "outputs": [],
   "source": [
    "df['keyword'].fillna('nokeyword',inplace=True)\n",
    "df['location'].fillna('nolocation',inplace=True)\n",
    "df.info()"
   ]
  },
  {
   "cell_type": "code",
   "execution_count": null,
   "metadata": {},
   "outputs": [],
   "source": []
  }
 ],
 "metadata": {
  "kernelspec": {
   "display_name": "conda_python3",
   "language": "python",
   "name": "conda_python3"
  },
  "language_info": {
   "codemirror_mode": {
    "name": "ipython",
    "version": 3
   },
   "file_extension": ".py",
   "mimetype": "text/x-python",
   "name": "python",
   "nbconvert_exporter": "python",
   "pygments_lexer": "ipython3",
   "version": "3.6.5"
  }
 },
 "nbformat": 4,
 "nbformat_minor": 4
}
